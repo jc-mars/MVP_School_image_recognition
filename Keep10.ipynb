{
 "cells": [
  {
   "cell_type": "code",
   "execution_count": 13,
   "id": "68a18a3a-09df-4a58-94e7-e6769683a411",
   "metadata": {},
   "outputs": [
    {
     "name": "stdout",
     "output_type": "stream",
     "text": [
      "Cleanup complete!\n"
     ]
    }
   ],
   "source": [
    "import os\n",
    "import random\n",
    "\n",
    "# Path to the main directory containing digit folders (0, 1, 2, ..., 9)\n",
    "main_dir = '/home/jc/KLIT/dataset'\n",
    "\n",
    "# Set the number of files to keep per folder\n",
    "files_to_keep = 500\n",
    "\n",
    "# Loop over each digit folder (0, 1, ..., 9)\n",
    "for digit in range(10):\n",
    "    folder_path = os.path.join(main_dir, str(digit))\n",
    "    \n",
    "    # Get all files in the current digit folder\n",
    "    all_files = os.listdir(folder_path)\n",
    "    \n",
    "    # Filter only files (in case there are subfolders or other items)\n",
    "    all_files = [f for f in all_files if os.path.isfile(os.path.join(folder_path, f))]\n",
    "    \n",
    "    # Check if the folder has more files than needed\n",
    "    if len(all_files) > files_to_keep:\n",
    "        # Randomly select files to keep\n",
    "        files_to_keep_list = random.sample(all_files, files_to_keep)\n",
    "        \n",
    "        # Remove files that are not in the keep list\n",
    "        for file in all_files:\n",
    "            if file not in files_to_keep_list:\n",
    "                os.remove(os.path.join(folder_path, file))\n",
    "                #print(f'Removed: {os.path.join(folder_path, file)}')\n",
    "    else:\n",
    "        print(f'Folder {digit} already has {len(all_files)} or fewer files, no files removed.')\n",
    "\n",
    "print(\"Cleanup complete!\")\n"
   ]
  },
  {
   "cell_type": "code",
   "execution_count": 16,
   "id": "9e8fbf51-0435-46dd-9730-550107851539",
   "metadata": {},
   "outputs": [
    {
     "name": "stdout",
     "output_type": "stream",
     "text": [
      "Filename cleanup complete!\n"
     ]
    }
   ],
   "source": [
    "import os\n",
    "\n",
    "# Path to the main directory containing digit folders (0, 1, 2, ..., 9)\n",
    "main_dir = '/home/jc/KLIT/dataset/'\n",
    "\n",
    "# Loop over each digit folder (0, 1, ..., 9)\n",
    "for digit in range(10):\n",
    "    folder_path = os.path.join(main_dir, str(digit))\n",
    "    \n",
    "    # Get all files in the current digit folder\n",
    "    all_files = os.listdir(folder_path)\n",
    "    \n",
    "    for file_name in all_files:\n",
    "        # Check if the file name contains a backslash\n",
    "        if '\\\\' in file_name:\n",
    "            # Replace backslash with underscore\n",
    "            new_file_name = file_name.replace('\\\\', '_')\n",
    "            # Rename the file\n",
    "            old_file_path = os.path.join(folder_path, file_name)\n",
    "            new_file_path = os.path.join(folder_path, new_file_name)\n",
    "            os.rename(old_file_path, new_file_path)\n",
    "            #print(f'Renamed: {old_file_path} -> {new_file_path}')\n",
    "            \n",
    "print(\"Filename cleanup complete!\")\n"
   ]
  },
  {
   "cell_type": "code",
   "execution_count": 17,
   "id": "ca0d13a0-a462-4b26-bc67-6502a9991ac4",
   "metadata": {},
   "outputs": [
    {
     "name": "stdout",
     "output_type": "stream",
     "text": [
      "Processing complete\n"
     ]
    }
   ],
   "source": [
    "import os\n",
    "from PIL import Image, ImageOps\n",
    "\n",
    "main_dir = '/home/jc/KLIT/dataset'\n",
    "\n",
    "# Loop through each folder (0, 1, 2)\n",
    "for digit in range(10):  # 0, 1, 2\n",
    "    folder_path = os.path.join(main_dir, str(digit))\n",
    "    \n",
    "    # Loop through each image in the folder\n",
    "    for file_name in os.listdir(folder_path):\n",
    "        # Check if the file is a PNG image\n",
    "        if file_name.endswith('.png'):\n",
    "            image_path = os.path.join(folder_path, file_name)\n",
    "            \n",
    "            # Open the image\n",
    "            image = Image.open(image_path)\n",
    "\n",
    "            # Check if the image has an alpha (transparency) channel\n",
    "            if image.mode == 'RGBA':\n",
    "                # Create a white background\n",
    "                background = Image.new('RGBA', image.size, (255, 255, 255, 255))\n",
    "                \n",
    "                # Paste the image onto the white background\n",
    "                background.paste(image, (0, 0), image)\n",
    "                \n",
    "                # Convert back to RGB (discard alpha channel)\n",
    "                final_image = background.convert('RGB')\n",
    "            else:\n",
    "                final_image = image\n",
    "\n",
    "            # Convert the image to grayscale\n",
    "            gray_image = final_image.convert('L')\n",
    "\n",
    "            # Invert the grayscale image\n",
    "            inverted_image = ImageOps.invert(gray_image)\n",
    "\n",
    "            # Convert the inverted grayscale image back to RGB to save it as PNG\n",
    "            final_image_with_black_bg = inverted_image.convert('RGB')\n",
    "\n",
    "            # Save the new image with a white background (overwrite original image or save with a new name)\n",
    "            output_image_path = os.path.join(folder_path, f'bg_{file_name}')\n",
    "            final_image_with_black_bg.save(output_image_path)\n",
    "            # Remove the old image after processing\n",
    "            os.remove(image_path)\n",
    "\n",
    "\n",
    "print(\"Processing complete\")\n"
   ]
  },
  {
   "cell_type": "code",
   "execution_count": null,
   "id": "d601af10-1b0f-4fc1-b18c-9cfd84903264",
   "metadata": {},
   "outputs": [],
   "source": []
  }
 ],
 "metadata": {
  "kernelspec": {
   "display_name": "Python 3 (ipykernel)",
   "language": "python",
   "name": "python3"
  },
  "language_info": {
   "codemirror_mode": {
    "name": "ipython",
    "version": 3
   },
   "file_extension": ".py",
   "mimetype": "text/x-python",
   "name": "python",
   "nbconvert_exporter": "python",
   "pygments_lexer": "ipython3",
   "version": "3.10.12"
  }
 },
 "nbformat": 4,
 "nbformat_minor": 5
}
